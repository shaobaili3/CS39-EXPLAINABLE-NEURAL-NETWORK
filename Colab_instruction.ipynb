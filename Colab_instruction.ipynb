{
  "nbformat": 4,
  "nbformat_minor": 0,
  "metadata": {
    "colab": {
      "name": "Colab Instruction",
      "provenance": []
    },
    "kernelspec": {
      "name": "python3",
      "display_name": "Python 3"
    }
  },
  "cells": [
    {
      "cell_type": "markdown",
      "metadata": {
        "id": "qmMvcCOw_8yG",
        "colab_type": "text"
      },
      "source": [
        "Mount Google Drive"
      ]
    },
    {
      "cell_type": "code",
      "metadata": {
        "id": "kv76k8l9TE-L",
        "colab_type": "code",
        "colab": {
          "base_uri": "https://localhost:8080/",
          "height": 34
        },
        "outputId": "4e70ac01-3f60-4554-e839-78955b9f0ff6"
      },
      "source": [
        "from google.colab import drive\n",
        "drive.mount('/content/drive')"
      ],
      "execution_count": 5,
      "outputs": [
        {
          "output_type": "stream",
          "text": [
            "Drive already mounted at /content/drive; to attempt to forcibly remount, call drive.mount(\"/content/drive\", force_remount=True).\n"
          ],
          "name": "stdout"
        }
      ]
    },
    {
      "cell_type": "markdown",
      "metadata": {
        "id": "9BR8Z2_TAIEA",
        "colab_type": "text"
      },
      "source": [
        "Clone project from Github"
      ]
    },
    {
      "cell_type": "code",
      "metadata": {
        "id": "vp-_i97wTc3u",
        "colab_type": "code",
        "colab": {
          "base_uri": "https://localhost:8080/",
          "height": 51
        },
        "outputId": "752da17a-bd20-4a58-d225-f43c3fe21676"
      },
      "source": [
        "!git clone https://github.com/shaobaili3/CS39-EXPLAINABLE-NEURAL-NETWORK.git\n",
        "!pwd"
      ],
      "execution_count": 6,
      "outputs": [
        {
          "output_type": "stream",
          "text": [
            "fatal: destination path 'CS39-EXPLAINABLE-NEURAL-NETWORK' already exists and is not an empty directory.\n",
            "/content\n"
          ],
          "name": "stdout"
        }
      ]
    }
  ]
}